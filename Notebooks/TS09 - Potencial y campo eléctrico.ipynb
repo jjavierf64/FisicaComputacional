{
 "cells": [
  {
   "cell_type": "markdown",
   "id": "01aa9cf6",
   "metadata": {},
   "source": [
    "# Tarea Semana 09\n",
    "## Potencial eléctrico y campo eléctrico\n",
    "\n",
    "\n",
    "- Realice las actividades que se le indican en los espacios disponibles. \n",
    "- Debe entregar una copia de este cuaderno en el espacio habilitado el tecDigital para el trabajo en clase TS09.\n",
    "- Puede agregar celdas de texto o código si lo considera necesario.\n",
    "- Use nombres descriptivos para las variables y las funciones que defina. \n",
    "- Agregue todos los comentarios que considere necesarios para mejorar la comprensión del código.\n",
    "- **Valor total XX puntos**.\n",
    "- Fecha de entrega: **Viernes 21 de abril, 11.59 pm**."
   ]
  },
  {
   "cell_type": "markdown",
   "id": "44145504",
   "metadata": {},
   "source": [
    "## Cálculo de campo eléctrico\n",
    "\n",
    "Una vez que se conoce el potencial eléctrico en una región, se puede obtener las componentes del campo eléctrico como\n",
    "\n",
    "$$\n",
    "E_x = -\\frac{\\partial V}{\\partial x}    \n",
    "$$\n",
    "\n",
    "para cada eje. Donde el campo eléctrico $\\vec E$\n",
    "se expresa como\n",
    "\n",
    "$$\n",
    "\\vec E = E_x\\hat\\imath + E_y \\hat\\jmath + E_z\\hat k\n",
    "$$\n",
    "\n",
    "Se puede aplicar el método de diferencias finitas para estimar las componentes del campo, por ejemplo:\n",
    "\n",
    "$$\n",
    "E_x(i,j) \\approx -\\frac{V(i+1,j)-V(i-1,j)}{2\\Delta x}\n",
    "$$"
   ]
  },
  {
   "attachments": {
    "Screenshot%20from%202023-04-14%2001-02-48.png": {
     "image/png": "[encoded data removed]"
    }
   },
   "cell_type": "markdown",
   "id": "237141a2",
   "metadata": {},
   "source": [
    "## 1. Campo en un capacitor de placas paralelas\n",
    "\n",
    "Se desea calcular el comportamiento del potencial eléctrico y el campo electrico alrededor de un capacitor de placas paralelas como se muestra en la figura\n",
    "\n",
    "<div>\n",
    "<img src=\"attachment:Screenshot%20from%202023-04-14%2001-02-48.png\" width=\"300\"/>\n",
    "</div>\n",
    "\n",
    "1. Considere la geometría de un capacitor de placas paralelas. Defina una malla centrada en el origen de $L = 2$. Todo el borde de la malla está a $V = 0$. \n",
    "2. Las placas paralelas están ubicadas en $x = \\pm 0.3$ y tienen una extensión $L_P = 0.75$. La placa izquierda tiene potencial $V = +1$ mientras que la placa derecha $V = -1$."
   ]
  },
  {
   "cell_type": "code",
   "execution_count": null,
   "id": "b821e74d",
   "metadata": {},
   "outputs": [],
   "source": [
    "# Geometría del sistema"
   ]
  },
  {
   "cell_type": "markdown",
   "id": "0b313070",
   "metadata": {},
   "source": [
    "3. Ahora resuelva numéricamente la ecuación de Laplace usando diferencias finitas en la geometría descrita. Aplique el método de método de relajación de Jacobi para obtener el potencial eléctrico en la malla establecida.\n",
    "4. Aplique un criterio de convergencia para determinar el número adecuado de iteraciones para que el sistema alcance el equilibrio. Compare los valores de potencial en la malla en las últimas dos iteraciones (para un número arbitrario de iteraciones): si los valores difieren poco considere que el sistema alcanzó el equilibrio, si la diferencia es significativa, haga más iteraciones en el proceso de relajación. Explique su razonamiento."
   ]
  },
  {
   "cell_type": "code",
   "execution_count": null,
   "id": "850a356b",
   "metadata": {},
   "outputs": [],
   "source": [
    "# Cálculo de V(i,j)"
   ]
  },
  {
   "cell_type": "markdown",
   "id": "0d8180c3",
   "metadata": {},
   "source": [
    "5. Grafique los resultados obtenidos. Primero grafique las líneas de contorno usando la función `contourf()`. Use un mapa de colores adecuado y agrege un `colorbar` a la figura."
   ]
  },
  {
   "cell_type": "code",
   "execution_count": null,
   "id": "3e3e16fc",
   "metadata": {},
   "outputs": [],
   "source": [
    "# Potencial eléctrico "
   ]
  },
  {
   "cell_type": "markdown",
   "id": "4bfd083e",
   "metadata": {},
   "source": [
    "6. Use la función `plot_surface()` para generar una superficie en 3D que represente el potencial en la placa."
   ]
  },
  {
   "cell_type": "code",
   "execution_count": null,
   "id": "0e259373",
   "metadata": {},
   "outputs": [],
   "source": [
    "# Potencial eléctrico "
   ]
  },
  {
   "cell_type": "markdown",
   "id": "4b681259",
   "metadata": {},
   "source": [
    "7. Ahora obtenga el campo eléctrico en la malla $\\vec E(i,j)$ a partir de $V(i,j)$"
   ]
  },
  {
   "cell_type": "code",
   "execution_count": null,
   "id": "34c50ce5",
   "metadata": {},
   "outputs": [],
   "source": [
    "# Campo eléctrico"
   ]
  },
  {
   "cell_type": "markdown",
   "id": "3c734a77",
   "metadata": {},
   "source": [
    "8. Grafique el campo eléctrico como un campo vectorial usando la función `quiver()`. Lea la documentación de `quiver()` para detalles sobre los parámetros de entrada y la salida de la función."
   ]
  },
  {
   "cell_type": "code",
   "execution_count": null,
   "id": "b6c88406",
   "metadata": {},
   "outputs": [],
   "source": [
    "# Campo eléctrico"
   ]
  },
  {
   "cell_type": "markdown",
   "id": "7221a885",
   "metadata": {},
   "source": [
    "## 2. Campo en una región con carga\n",
    "\n",
    "Para una región tridimensional que contiene carga eléctrica, el potencial eléctrico obedece la ecuación de Poisson:\n",
    "\n",
    "$$\n",
    "\\frac{\\partial^2 V}{\\partial x^2} + \\frac{\\partial^2 V}{\\partial y^2} + \\frac{\\partial^2 V}{\\partial z^2} = -\\frac{\\rho}{\\epsilon_0} \n",
    "$$\n",
    "\n",
    "Aplicando la discretización del espacio y el método de diferencias finitas, el potencial en la placa se aproxima como\n",
    "\n",
    "$$\n",
    "V(i,j,k) = \\frac{1}{6}\\Bigl [ V(i+1,j,k)+V(i-1,j,k)+V(i,j+1,k)+V(i,j-1,k)+V(i,j,k+1)+V(i,j,k-1)\\Bigr] + \\frac{\\Delta x^2}{6}\\rho(i,j,k)\n",
    "$$\n",
    "\n",
    "Donde se asume que $\\Delta x = \\Delta y = \\Delta z$"
   ]
  },
  {
   "cell_type": "markdown",
   "id": "0d5471d9",
   "metadata": {},
   "source": [
    "Se desea calcular el comportamiento del potencial eléctrico y el campo electrico alrededor de un capacitor de placas paralelas como se muestra en la figura\n",
    "\n",
    "\n",
    "1. Considere la geometría de una caja cuadrada. Defina una malla tridimensional centrada en el origen de $L = 2$. Todas las paredes de la caja están a $V = 0$. \n",
    "2. Se va a considerar que hay una carga _puntual_ en el centro de la caja, la densidad de carga es entonces: $\\rho(0,0,0)= \\frac{q}{\\mathrm d x^3}$. Donde $\\mathrm d x$ es un valor pequeño comparado con $\\Delta x$. Por lo tanto, note que la carga no es estrictamente una carga puntual, sino que ocupa un pequeño volumen en el espacio."
   ]
  },
  {
   "cell_type": "code",
   "execution_count": null,
   "id": "76f32b66",
   "metadata": {},
   "outputs": [],
   "source": [
    "# Geometría del sistema"
   ]
  },
  {
   "cell_type": "markdown",
   "id": "0ee85b8a",
   "metadata": {},
   "source": [
    "3. Ahora resuelva numéricamente la ecuación de poisson usando diferencias finitas en la geometría descrita. Aplique el método de método de relajación de Jacobi para obtener el potencial eléctrico en la malla establecida.\n",
    "4. Aplique un criterio de convergencia para determinar el número adecuado de iteraciones para que el sistema alcance el equilibrio. Compare los valores de potencial en la malla (en z = 0) en las últimas dos iteraciones (para un número arbitrario de iteraciones): si los valores difieren poco considere que el sistema alcanzó el equilibrio, si la diferencia es significativa, haga más iteraciones en el proceso de relajación. Explique su razonamiento."
   ]
  },
  {
   "cell_type": "code",
   "execution_count": null,
   "id": "31d173c6",
   "metadata": {},
   "outputs": [],
   "source": [
    "# Cálculo de V(i,j,k)"
   ]
  },
  {
   "cell_type": "markdown",
   "id": "8161dffd",
   "metadata": {},
   "source": [
    "5. Grafique los resultados obtenidos. Primero grafique las líneas de contorno usando la función `contourf()`. Use un mapa de colores adecuado y agrege un `colorbar` a la figura. Grafique únicamente el comportamiento en el plano $z=0$."
   ]
  },
  {
   "cell_type": "code",
   "execution_count": null,
   "id": "9e1dbbe0",
   "metadata": {},
   "outputs": [],
   "source": [
    "# Potencial eléctrico "
   ]
  },
  {
   "cell_type": "markdown",
   "id": "0bc5275b",
   "metadata": {},
   "source": [
    "6. Use la función `plot_surface()` para generar una superficie en 3D que represente el potencial en la placa.  Grafique únicamente el comportamiento en el plano $z = 0$."
   ]
  },
  {
   "cell_type": "code",
   "execution_count": null,
   "id": "9fce56c7",
   "metadata": {},
   "outputs": [],
   "source": [
    "# Potencial eléctrico"
   ]
  },
  {
   "cell_type": "markdown",
   "id": "1052cf3f",
   "metadata": {},
   "source": [
    "7. Ahora obtenga el campo eléctrico en la malla tridimensional $\\vec E(i,j,k)$ a partir de $V(i,j,k)$"
   ]
  },
  {
   "cell_type": "code",
   "execution_count": null,
   "id": "a27b1657",
   "metadata": {},
   "outputs": [],
   "source": [
    "# Campo eléctrico"
   ]
  },
  {
   "cell_type": "markdown",
   "id": "d5b465c2",
   "metadata": {},
   "source": [
    "8. Grafique el campo eléctrico como un campo vectorial usando la función `quiver()`. Lea la documentación de `quiver()` para detalles sobre los parámetros de entrada y la salida de la función. Grafique únicamente el comportamiento en el plano $z = 0$."
   ]
  },
  {
   "cell_type": "code",
   "execution_count": null,
   "id": "282d9961",
   "metadata": {},
   "outputs": [],
   "source": [
    "# Campo eléctrico"
   ]
  },
  {
   "cell_type": "markdown",
   "id": "513d2c90",
   "metadata": {},
   "source": [
    "## Referencias\n",
    "\n",
    "* Giordano, N.; Nakanishi, H. (2006). _Computational Physics, 2ª ed_. Estados Unidos: Pearson Education"
   ]
  }
 ],
 "metadata": {
  "kernelspec": {
   "display_name": "Python 3",
   "language": "python",
   "name": "python3"
  },
  "language_info": {
   "codemirror_mode": {
    "name": "ipython",
    "version": 3
   },
   "file_extension": ".py",
   "mimetype": "text/x-python",
   "name": "python",
   "nbconvert_exporter": "python",
   "pygments_lexer": "ipython3",
   "version": "3.8.8"
  }
 },
 "nbformat": 4,
 "nbformat_minor": 5
}
