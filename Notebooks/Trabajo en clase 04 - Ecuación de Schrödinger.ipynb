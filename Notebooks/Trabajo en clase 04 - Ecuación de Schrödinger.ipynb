{
 "cells": [
  {
   "cell_type": "markdown",
   "id": "739b15f9",
   "metadata": {},
   "source": [
    "# Trabajo en clase 04 - Javier Fernández\n",
    "## Ecuación de Schrödinger\n",
    "\n",
    "- Realice las actividades que se le indican en los espacios disponibles. \n",
    "- Debe entregar una copia de este cuaderno en el espacio habilitado el tecDigital para el trabajo en clase 04.\n",
    "- **Valor total XX puntos**.\n",
    "- Puede agregar celdas de texto o código si lo considera necesario.\n",
    "- Use nombres descriptivos para las variables y las funciones que defina. \n",
    "- Agregue todos los comentarios que considere necesarios para mejorar la comprensión del código."
   ]
  },
  {
   "cell_type": "markdown",
   "id": "240f5e18",
   "metadata": {},
   "source": [
    "## Ecuación de Schrödinger\n",
    "\n",
    "Se aplica el método de disparo para resolver numéricamente la ecuación de Schrödinger en una dimensión."
   ]
  },
  {
   "cell_type": "markdown",
   "id": "08c49c1a",
   "metadata": {},
   "source": [
    "1. Defina los parámetros iniciales del sistema: espaciamiento de la grilla unidimensional, estimación inicial de la energía, incremento en la energía, parámetro de corte y una variable que almacene la dirección en la que diverge la $\\psi$ (si diverge). Defina valores razonables. Estos valores se pueden modificar luego para mejorar el cómputo. **Valor: 2 puntos.**"
   ]
  },
  {
   "cell_type": "code",
   "execution_count": 1,
   "id": "66bb7c27-1f40-4f25-b2fd-abc0010d9d4f",
   "metadata": {
    "tags": []
   },
   "outputs": [],
   "source": [
    "# Importación de Librerías\n",
    "import numpy as np\n",
    "import matplotlib.pyplot as plt\n"
   ]
  },
  {
   "cell_type": "code",
   "execution_count": 27,
   "id": "df9cd427",
   "metadata": {
    "tags": []
   },
   "outputs": [],
   "source": [
    "# Parámetros del sistema\n",
    "\n",
    "deltaX = 0.1\n",
    "e_inicial = 0\n",
    "deltaE = 0.01\n",
    "pCorte = 2\n",
    "direcDiv = 1\n",
    "\n",
    "\n",
    "# Valores del Pozo\n",
    "L = 1 #Mitad de largo del Pozo\n",
    "x = np.arange(0,L+deltaX,deltaX)\n",
    "N = np.size(x)\n",
    "\n"
   ]
  },
  {
   "cell_type": "markdown",
   "id": "615c48c6",
   "metadata": {},
   "source": [
    "2. Defina los valores iniciales de $\\psi$ para encontrar una solución _par_, esto es:  $\\psi_{-1} = \\psi_0 = 1$. Inicialice un arreglo que representa la función $\\psi$. **Valor: 2 puntos.**"
   ]
  },
  {
   "cell_type": "code",
   "execution_count": 28,
   "id": "c97eb344-02a7-4771-9f40-08131c96037c",
   "metadata": {
    "tags": []
   },
   "outputs": [
    {
     "name": "stdout",
     "output_type": "stream",
     "text": [
      "[1. 1. 0. 0. 0. 0. 0. 0. 0. 0. 0.]\n"
     ]
    }
   ],
   "source": [
    "# Función de onda\n",
    "psi = np.zeros(N)\n",
    "\n",
    "psi[0] = 1\n",
    "psi[1] = 1\n",
    "\n",
    "print(psi)"
   ]
  },
  {
   "cell_type": "markdown",
   "id": "628d2a6f",
   "metadata": {},
   "source": [
    "3. Defina una función que establezca la forma del potencial $V$. Use el caso del pozo cuadrado infinito. **Valor: 2 puntos.**"
   ]
  },
  {
   "cell_type": "code",
   "execution_count": 9,
   "id": "283ac118",
   "metadata": {
    "tags": []
   },
   "outputs": [],
   "source": [
    "# Potencial\n",
    "\n",
    "def Potencial(x):\n",
    "    return 0"
   ]
  },
  {
   "cell_type": "markdown",
   "id": "a6fa7cc7",
   "metadata": {},
   "source": [
    "4. Defina un ciclo que itere hasta que se encuentre el valor correcto de _E_. **Valor: 8 puntos.**\n",
    "    - Para el valor actual de E, itere sobre las entradas del arreglo que representa $\\psi$\n",
    "        * Calcule $\\psi_{i+1}$ usando:\n",
    "       $$\n",
    "        \\psi_{i+1} = 2\\psi_i - \\psi_{i-1} - 2\\Delta x^2 [E - V(x_i)]\\psi_i\n",
    "       $$\n",
    "       * Evalue si $|\\psi_{i+1}|$ > b\n",
    "           + Si la expresión se cumple, la función diverge.\n",
    "           + Si no se cumple, continue el ciclo.\n",
    "    - Evalue el valor de `deltaE`. Si es pequeño se concluye que el valor de _E_ actual es aceptable, si no, se continua.\n",
    "    - Si el último valor de $\\psi$ tiene signo distinto a `direcDiv` se define $\\Delta E = - \\Delta E/2$.\n",
    "    - Se actualiza el valor de prueba de $E$ a $E + \\Delta E$.\n",
    "    - El ciclo continua con el nuevo valor de $E$."
   ]
  },
  {
   "cell_type": "code",
   "execution_count": 29,
   "id": "b1c16dd9",
   "metadata": {
    "tags": []
   },
   "outputs": [
    {
     "name": "stdout",
     "output_type": "stream",
     "text": [
      "E converge con valor  1.365000000000001\n"
     ]
    }
   ],
   "source": [
    "# Ciclo principal\n",
    "\n",
    "run = 1\n",
    "E = e_inicial\n",
    "\n",
    "\n",
    "while run:\n",
    "    for i in range(1,N-1):\n",
    "        psi[i+1] = 2*psi[i] - psi[i-1] - 2* deltaX**2 * psi[i] * (E-Potencial(x[i]))\n",
    "        \n",
    "        if np.abs(psi[i+1]) > pCorte:\n",
    "            run = 0\n",
    "            print(\"E diverge\")\n",
    "            break\n",
    "            \n",
    "    if deltaE < 0.001:\n",
    "        run = 0\n",
    "        print(\"E converge con valor \", E)\n",
    "        break\n",
    "        \n",
    "    if np.sign(direcDiv) != np.sign(psi[i+1]):\n",
    "        deltaE = - deltaE/2\n",
    "        \n",
    "    E += deltaE \n",
    "\n",
    "        \n"
   ]
  },
  {
   "cell_type": "markdown",
   "id": "bde03e0e",
   "metadata": {},
   "source": [
    "5. Grafique la función de onda obtenida."
   ]
  },
  {
   "cell_type": "code",
   "execution_count": 33,
   "id": "974537c1-abd7-498e-9366-b0768c1fa793",
   "metadata": {
    "tags": []
   },
   "outputs": [
    {
     "data": {
      "image/png": "[encoded data removed]",
      "text/plain": [
       "<Figure size 640x480 with 1 Axes>"
      ]
     },
     "metadata": {},
     "output_type": "display_data"
    }
   ],
   "source": [
    "\n",
    "x_reversed = -1* x[::-1]\n",
    "X = np.concatenate((x_reversed,x))\n",
    "\n",
    "psi_reversed = psi[::-1]\n",
    "\n",
    "PSI = np.concatenate((psi_reversed,psi))\n",
    "\n",
    "plt.plot(X,PSI)\n",
    "plt.xlabel(\"Posición en X\")\n",
    "plt.ylabel(\"Valor de $\\psi$\")\n",
    "plt.show()"
   ]
  },
  {
   "cell_type": "markdown",
   "id": "200ba12f",
   "metadata": {},
   "source": [
    "## Referencias\n",
    "\n",
    "* Giordano, N.; Nakanishi, H. (2006). _Computational Physics, 2ª ed_. Estados Unidos: Pearson Education"
   ]
  }
 ],
 "metadata": {
  "kernelspec": {
   "display_name": "Python 3 (ipykernel)",
   "language": "python",
   "name": "python3"
  },
  "language_info": {
   "codemirror_mode": {
    "name": "ipython",
    "version": 3
   },
   "file_extension": ".py",
   "mimetype": "text/x-python",
   "name": "python",
   "nbconvert_exporter": "python",
   "pygments_lexer": "ipython3",
   "version": "3.10.10"
  }
 },
 "nbformat": 4,
 "nbformat_minor": 5
}
