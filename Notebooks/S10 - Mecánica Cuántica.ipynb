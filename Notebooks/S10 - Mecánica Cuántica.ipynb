{
 "cells": [
  {
   "cell_type": "markdown",
   "id": "7af4bb8f",
   "metadata": {},
   "source": [
    "# Mecánica Cuántica\n",
    "\n",
    "## La ecuación de Schrödinger independiente del tiempo"
   ]
  },
  {
   "cell_type": "markdown",
   "id": "72d8de75",
   "metadata": {},
   "source": [
    "Ecuación de Schrödinger independiente del tiempo para una partícula en 3D\n",
    "\n",
    "$$\n",
    "-\\frac{\\hbar^2}{2m}\\nabla^2 \\psi + V(\\vec r)~\\psi = E~\\psi\n",
    "$$\n",
    "\n",
    "donde $\\hbar$ es la constante de Planck, $m$ la masa de la partícula, $V$ el potencial, $E$ la energía de la partícula y $\\psi$ es la función de onda.\n",
    "\n",
    "- La ecuación representa la distrubución espacial de la función de onda\n",
    "- En general la función de onda es una función compleja de la posición.\n",
    "- Si $\\psi(\\vec r)$ está normalizada, la cantidad $|\\psi(\\vec r)|^2$ representa la densidad de probabilidad de la partícula, es decir, la probabilidad por unidad de volumen de estar en la posición $\\vec r$.\n",
    "- La energía $E$ es desconocida, por lo tanto, la solución completa de la ecuación implica encontrar $\\psi$ (autofunción) y $E$ (autovalor).\n",
    "\n",
    "Ecuación para $V = 0$, en una dimensión \n",
    "\n",
    "$$\n",
    "-\\frac{\\hbar^2}{2m}\\frac{\\mathrm d^2 \\psi}{\\mathrm d x^2} = E~\\psi\n",
    "$$\n",
    "\n",
    "* Ver discusión en Giordano $\\S$ 10.1 para ver la solución analítica\n",
    "\n",
    "La ecuación en una dimensión se puede reescribir como\n",
    "\n",
    "$$\n",
    "\\frac{\\mathrm d^2 \\psi}{\\mathrm d x^2} + k^2\\psi = 0\n",
    "$$\n",
    "\n",
    "donde $k^2 = \\dfrac{2m}{\\hbar^2}\\bigl[E - V(x)\\bigr]$"
   ]
  },
  {
   "cell_type": "markdown",
   "id": "cc5f68cc",
   "metadata": {},
   "source": [
    "## Pozo cuadrado infinito\n",
    "\n",
    "- Considere una particula confinada a una región $-L < x < L$ donde $V = 0$ dentro de la región y $V = \\infty$ afuera.\n",
    "- En este caso puede aprovecharse la simetría del potencial para encontrar condicines de frontera del problema.\n",
    "- El potencial del pozo cuadrado infinito en una función par, es decir, cumple que $\\psi(+x) = \\psi(-x)$. La función de onda entonces cumple que $\\frac{\\mathrm d \\psi}{\\mathrm d x} = 0$ en $x = 0$ y $\\psi(0) \\neq 0$. Ver discusión en Giordano $\\S$ 10.2.\n",
    "- El valor de $\\psi(0)$ puede asignarse de forma arbitraria para la solución numérica."
   ]
  },
  {
   "cell_type": "markdown",
   "id": "f1990691",
   "metadata": {},
   "source": [
    "## Métodos de solución numérica:\n",
    "### Método de disparo\n",
    "\n",
    "Se procede con el procedimiento de aproximación de la Ec de Schrödinger\n",
    "- La derivada de segundo orden se aproxima por diferencias finitas usando el procedimiento conocido\n",
    "\n",
    "$$\n",
    "\\frac{\\mathrm d^2 \\psi}{\\mathrm d x^2} \\approx \\frac{\\psi_{i-1} - 2\\psi_{i} + \\psi_{i+1}}{\\Delta x^2}\n",
    "$$\n",
    "\n",
    "- Insertando la aproximación para la regunda derivada en la Ec de Schrödinger se obtiene:\n",
    "\n",
    "$$\n",
    "\\psi_{i+1} = 2\\psi_i - \\psi_{i-1} - 2\\Delta x^2 (E - V_i)\\psi_i\n",
    "$$\n",
    "\n",
    "- Finalmente deben considerarse las condiciones de frontera del problema. Diferentes formas del potencial $V$ obligan a que la función de onda cumpla:\n",
    "    - Para el pozo cuadrado infinito: $\\psi(-a/2) = \\psi(a/2) = 0$\n",
    "    - Para el oscilador armónico: $\\psi(-\\infty) = \\psi(+\\infty) = 0$\n",
    "- Como condiciones de frontera se toma $\\psi_{-1} = \\psi_{0} = 1$. A partir de estos valores se obtienen los demás $\\psi_{i}$.\n",
    "- Para encontrar soluciones del sistema deben probarse distintos valores de $E$. Solo ciertos valores discretos de energía resultan en soluciones físicamente aceptables.\n",
    "- Valores de $E$ no aceptables hacen que la función de onda no pueda ser normalizada (porque diverge). Por lo tanto, debe seleccionarse un valor $E$ arbitrario que debe corregirse de acuerdo al comportamiento que exhibe $\\psi$\n",
    "- Deben realizarse las interaciones necesarias hasta que se halle el valor de $E$ correcto (añadiendo una cantidad $\\Delta E$ en cada paso) que resulta en el comportamiento esperado de $\\psi$ en las fronteras."
   ]
  },
  {
   "cell_type": "markdown",
   "id": "84b71040",
   "metadata": {},
   "source": [
    "## Referencias\n",
    "\n",
    "* Giordano, N.; Nakanishi, H. (2006). _Computational Physics, 2ª ed_. Estados Unidos: Pearson Education\n",
    "* Landau, R. H., Páez, J., & Bordeianu, C. C. (2011). _A Survey of Computational Physics: Introductory Computational Science_. Princeton: Princeton University Press."
   ]
  },
  {
   "cell_type": "code",
   "execution_count": null,
   "id": "ca878a82",
   "metadata": {},
   "outputs": [],
   "source": []
  }
 ],
 "metadata": {
  "kernelspec": {
   "display_name": "Python 3 (ipykernel)",
   "language": "python",
   "name": "python3"
  },
  "language_info": {
   "codemirror_mode": {
    "name": "ipython",
    "version": 3
   },
   "file_extension": ".py",
   "mimetype": "text/x-python",
   "name": "python",
   "nbconvert_exporter": "python",
   "pygments_lexer": "ipython3",
   "version": "3.10.10"
  }
 },
 "nbformat": 4,
 "nbformat_minor": 5
}
