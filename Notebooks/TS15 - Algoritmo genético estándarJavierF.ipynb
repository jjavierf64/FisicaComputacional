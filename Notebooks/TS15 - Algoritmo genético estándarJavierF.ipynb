{
 "cells": [
  {
   "attachments": {},
   "cell_type": "markdown",
   "id": "e6ce3f1c",
   "metadata": {},
   "source": [
    "# Tarea Semana 15\n",
    "## Algoritmo Genético Estándar (AGM)\n",
    "\n",
    "### Realizado por: Jose Javier Fernández y Kaled Sequeira Aguilar\n",
    "\n",
    "- Realice las actividades que se le indican en los espacios disponibles. \n",
    "- Debe entregar una copia de este cuaderno en el espacio habilitado el tecDigital para el trabajo en clase TS15.\n",
    "- Puede agregar celdas de texto o código si lo considera necesario.\n",
    "- Use nombres descriptivos para las variables y las funciones que defina. \n",
    "- Agregue todos los comentarios que considere necesarios para mejorar la comprensión del código.\n",
    "- **Valor total 22 puntos**.\n",
    "- Fecha de entrega: **Viernes 02 de junio, 11.59 pm**.\n",
    "\n"
   ]
  },
  {
   "attachments": {},
   "cell_type": "markdown",
   "id": "03a7ae7f",
   "metadata": {},
   "source": [
    "Use la implementación del algoritmo genético estándar para encontrar el máximo de la función:\n",
    "    \n",
    "$$\n",
    "\\psi_1(x_1, x_2) = \\dfrac{e^{-x_1^2-x_2^2} + \\sqrt{5}\\sin^2{(x_1^2x_2)} + 2\\cos^2{(2x_1 + 3x_2)}}{1 + x_1^2 + x_2^2}\n",
    "$$\n",
    "En el rango $x_1, x_2 \\in [-3, 3]$\n",
    "\n",
    "Así como el mínimo global de la función\n",
    "\n",
    "$$\n",
    "\\psi_2(x_1,x_2) = 100(x_1^2 - x_2^2)^2 + (1 - x_1)^2\n",
    "$$\n",
    "\n",
    "En el rango $x_1, x_2 \\in [-5.12, 5.12]$"
   ]
  },
  {
   "cell_type": "code",
   "execution_count": 14,
   "id": "7c1e62fa",
   "metadata": {},
   "outputs": [],
   "source": [
    "# Librerias necesarias\n",
    "import numpy as np\n",
    "import matplotlib.pyplot as plt"
   ]
  },
  {
   "attachments": {},
   "cell_type": "markdown",
   "id": "249e8939",
   "metadata": {},
   "source": [
    "### Inicialización\n",
    "\n",
    "1. Inicialice la población. Genere $N$ secuencias binarias aleatorias (cromosomas) $c_i$. **Valor: 2 puntos.**"
   ]
  },
  {
   "cell_type": "code",
   "execution_count": 15,
   "id": "0d7bdb70",
   "metadata": {},
   "outputs": [],
   "source": [
    "# Inicialización\n",
    "\n",
    "# Toma el tamaño y el número de genes creando un array con esas dimensiones\n",
    "def generar(N,ngenes):\n",
    "    matriz = []\n",
    "    for i in range(0,N):\n",
    "        matriz.append([])\n",
    "        for j in range(0,ngenes):\n",
    "            matriz[i].append(np.random.randint(0,2))\n",
    "    return matriz"
   ]
  },
  {
   "attachments": {},
   "cell_type": "markdown",
   "id": "9f16c274",
   "metadata": {},
   "source": [
    "### Evaluación"
   ]
  },
  {
   "attachments": {},
   "cell_type": "markdown",
   "id": "f66a4696",
   "metadata": {},
   "source": [
    "2. Escriba una función de decodificación que obtenga las variables $x_{j}$ a partir de los cromosomas $c_i$. Suponga que debe obtener _2_ variables, donde cada variable se obtiene a partir de la mitad de los genes del cromosoma. **Valor: 2 puntos.**"
   ]
  },
  {
   "cell_type": "code",
   "execution_count": 16,
   "id": "bb3e9ff0",
   "metadata": {},
   "outputs": [],
   "source": [
    "# Decodificación del cromosoma\n",
    "def decod(cromosoma, d):\n",
    "    producto = 0\n",
    "    i = 1\n",
    "    for g in cromosoma:\n",
    "        producto += g*2**-i\n",
    "        i+=1\n",
    "    k=len(cromosoma)\n",
    "    \n",
    "    x = -d + (2*d/(1-2**-k)) * producto\n",
    "\n",
    "    return x"
   ]
  },
  {
   "cell_type": "code",
   "execution_count": 17,
   "id": "38325402",
   "metadata": {},
   "outputs": [],
   "source": [
    "# Se debe obtener 2 variables, donde cada variable se obtiene a partir de la mitad de los genes del cromosoma\n",
    "def generar_variables(genoma,d):\n",
    "    variables=[]\n",
    "    mitadCrom = len(genoma[0])//2\n",
    "\n",
    "\n",
    "    for cromosoma in genoma:\n",
    "        x1 = decod(cromosoma[:mitadCrom],d)\n",
    "        x2 = decod(cromosoma[mitadCrom:],d)\n",
    "        variables.append([x1,x2])\n",
    "\n",
    "    variables = np.asarray(variables)\n",
    "    return variables\n"
   ]
  },
  {
   "attachments": {},
   "cell_type": "markdown",
   "id": "8292cd84",
   "metadata": {},
   "source": [
    "3. Evalúe la función ajuste usando las variables obtenidas en el paso anterior, y asigne un valor de ajuste $ajuste_i = f(\\mathbf{x}_i)$ a cada cromosoma. **Valor: 1 punto.**"
   ]
  },
  {
   "cell_type": "code",
   "execution_count": 18,
   "id": "92eb9bd1",
   "metadata": {},
   "outputs": [],
   "source": [
    "# Evaluación\n",
    "# Primero se definen las funciones\n",
    "def phi_1(x1,x2):\n",
    "    return ( np.exp( -x1**2 * -x2**2)   +   np.sqrt(5) * np.sin(x1**2 * x2)**2   +  2*np.cos(2*x1 + 3 *x2)**2   )/(1 + x1**2 + x2**2)\n",
    "\n",
    "\n",
    "def phi_2(x1,x2):\n",
    "    return 100* (x1**2 - x2**2)**2 +(1-x1)**2"
   ]
  },
  {
   "cell_type": "code",
   "execution_count": 19,
   "id": "f37d78d6",
   "metadata": {},
   "outputs": [
    {
     "data": {
      "text/plain": [
       "'\\n## Para phi 1\\nresultPhi1 = phi_1(variables[:,0],variables[:,1])\\n'"
      ]
     },
     "execution_count": 19,
     "metadata": {},
     "output_type": "execute_result"
    }
   ],
   "source": [
    "\"\"\"\n",
    "## Para phi 1\n",
    "resultPhi1 = phi_1(variables[:,0],variables[:,1])\n",
    "\"\"\""
   ]
  },
  {
   "attachments": {},
   "cell_type": "markdown",
   "id": "aaca29ad",
   "metadata": {},
   "source": [
    "4. Defina una variable $i_{óptimo}$ que almacene el índice (dentro de la población) del mejor cromosoma (el que tenga el mejor valor de ajuste). Guarde también el mejor valor de ajuste en la variable .\n",
    "5. Itere sobre todos los cromosomas y si $F_i > F_{óptimo}$ actualice los valores de $i_{óptimo}$ y $F_{óptimo}$. **Valor: 1 punto.**"
   ]
  },
  {
   "cell_type": "code",
   "execution_count": 20,
   "id": "a4ee0d64",
   "metadata": {},
   "outputs": [
    {
     "data": {
      "text/plain": [
       "'\\nindiceOptimo = optimo(resultPhi1)\\nindiceOptimo\\n'"
      ]
     },
     "execution_count": 20,
     "metadata": {},
     "output_type": "execute_result"
    }
   ],
   "source": [
    "# Valores óptimos\n",
    "\n",
    "## Para phi 1\n",
    "def optimo(ajuste):\n",
    "    return np.argmax(ajuste), np.max(ajuste)\n",
    "\n",
    "\n",
    "\"\"\"\n",
    "indiceOptimo = optimo(resultPhi1)\n",
    "indiceOptimo\n",
    "\"\"\"\n",
    "# Para phi2 se usa 1/F\n"
   ]
  },
  {
   "attachments": {},
   "cell_type": "markdown",
   "id": "17943c6f",
   "metadata": {},
   "source": [
    "### Formación de la nueva generación\n",
    "\n",
    "6. Aplique el operador de _elitismo_ para formar la nueva generación. Esto es, copie el cromosoma mejor evaluado. **Valor: 1 punto.**\n",
    "7. Utilice el proceso de selección por torneo para seleccionar 2 individuos de la población. **Valor: 1 punto.**\n",
    "8. Genere dos nuevos cromosomas cruzando, con probabilidad $p_{cruce}$ los cromosomas seleccionados en el paso anterior. Con probabilidad $1 - p_{cruce}$ returne los cromosomas viejos sin cambios. **Valor: 1 punto.**\n",
    "9. Aplique el operador mutación sobre los cromosomas generados. El operador mutación recorre **todos** los genes del cromosoma y los muta con probabilidad $p_{mut}$. **Valor: 1 punto.**\n",
    "10. Repita los pasos 7 a 9 hasta generar una nueva población."
   ]
  },
  {
   "cell_type": "code",
   "execution_count": 21,
   "id": "60484e84",
   "metadata": {},
   "outputs": [],
   "source": [
    "# Torneo de selección\n",
    "def seleccion(ajuste, pTorneo):\n",
    "    prob = np.random.uniform(0,1)\n",
    "    i=0\n",
    "\n",
    "    if pTorneo >= prob:\n",
    "        i = np.argmax(ajuste)\n",
    "    elif pTorneo < prob:\n",
    "        i = np.argmin(ajuste)\n",
    "    \n",
    "    return i\n",
    "\n",
    "# Operador de cruce\n",
    "def cruce(crom1, crom2, pCruce):\n",
    "    prob = np.random.uniform(0,1)\n",
    "\n",
    "    if pCruce >= prob:\n",
    "        i = np.random.randint(1,len(crom1)-1)\n",
    "        newcrom1 = crom1[:i] + crom2[i:]\n",
    "        newcrom2 = crom2[:i] + crom1[i:]\n",
    "    else:\n",
    "        newcrom1,newcrom2 = crom1,crom2\n",
    "\n",
    "    return newcrom1,newcrom2\n",
    "\n",
    "# Mutación\n",
    "def muta(crom, pMut):\n",
    "    prob = np.random.uniform(0,1)\n",
    "\n",
    "    if pMut >= prob:\n",
    "        i = np.random.randint(0,len(crom))\n",
    "        if crom[i]:\n",
    "            crom[i]=0\n",
    "        else:\n",
    "            crom[i]=1\n",
    "\n",
    "    return crom \n",
    "\n",
    "\n",
    "# Nueva población: \n",
    "\n",
    "def nueva_gen(indiceOptimo, genoma, ajuste, pTorneo, pCruce, pMut):\n",
    "    \n",
    "    nuevoGenoma = []\n",
    "    elite = genoma[indiceOptimo[0]]\n",
    "    nuevoGenoma.append(elite)\n",
    "\n",
    "    #Loop de nueva población\n",
    "\n",
    "    for k in range(1,len(genoma)//2):\n",
    "        #Torneo\n",
    "        indiceCrom1 = seleccion(ajuste, pTorneo) # Realiza el torneo y guarda el índice\n",
    "        indiceCrom2 = seleccion(ajuste, pTorneo)\n",
    "\n",
    "        #Cruce\n",
    "        crom1,crom2 = cruce(genoma[indiceCrom1] , genoma[indiceCrom2] , pCruce)\n",
    "\n",
    "        ajuste = np.delete(ajuste, indiceCrom1) # Elimina el valor del índice del ajuste\n",
    "        ajuste = np.delete(ajuste, indiceCrom2-1) \n",
    "        genoma.pop(indiceCrom1) # Elimina el valor del índice del genoma\n",
    "        genoma.pop(indiceCrom2-1)\n",
    "\n",
    "\n",
    "        nuevoGenoma.append(crom1)\n",
    "        nuevoGenoma.append(crom2)\n",
    "        \n",
    "\n",
    "    for indiceCrom,crom in enumerate(nuevoGenoma):\n",
    "        nuevoGenoma[indiceCrom] = muta(crom, pMut)\n",
    "        \n",
    "    nuevoGenoma[0] = elite\n",
    "\n",
    "    return nuevoGenoma\n",
    "    \n",
    "    \n"
   ]
  },
  {
   "attachments": {},
   "cell_type": "markdown",
   "id": "1e1f5bac",
   "metadata": {},
   "source": [
    "11. Regrese al paso 2 y repita el proceso hasta que alcance un criterio de terminación. Establezca un criterio de terminación. El resultado de este ciclo son los valores óptimos de la función de ajuste. **Valor: 4 puntos.**"
   ]
  },
  {
   "cell_type": "code",
   "execution_count": 34,
   "id": "e5608524",
   "metadata": {},
   "outputs": [],
   "source": [
    "# Ciclo principal\n",
    "\n",
    "def main(genoma, numEcuacion, pCruce, pMut, pTorneo, numGeneraciones = 10**5):\n",
    "    valoresOptimos = []\n",
    "\n",
    "\n",
    "    for k in range(numGeneraciones):\n",
    "\n",
    "        if numEcuacion==1:\n",
    "            d = 3\n",
    "            variables = generar_variables(genoma,d)\n",
    "            ajuste = phi_1(variables[:,0],variables[:,1])\n",
    "            indiceOptimo = optimo(ajuste)\n",
    "                    \n",
    "        elif numEcuacion==2:\n",
    "            d=5.12\n",
    "            variables = generar_variables(genoma,d)\n",
    "            ajuste = phi_2(variables[:,0],variables[:,1])\n",
    "            indiceOptimo = optimo(1/ajuste)\n",
    "            indiceOptimo = indiceOptimo[0], 1/indiceOptimo[1]\n",
    "\n",
    "        valoresOptimos.append(indiceOptimo[1])\n",
    "        genoma = nueva_gen(indiceOptimo, genoma, ajuste, pTorneo, pCruce, pMut)\n",
    "    \n",
    "    return valoresOptimos\n",
    "    \n",
    "    "
   ]
  },
  {
   "attachments": {},
   "cell_type": "markdown",
   "id": "e570f1c7",
   "metadata": {},
   "source": [
    "12. Los pasos anteriores forman la implementación de AGM. Utilice el AGM para encontrar los valores óptimos de $\\psi_1$ y $\\psi_2$ en los rangos indicados. Utilice el siguiente conjunto de parámetros iniciales para ejecutar su AGM. \n",
    "13. Puede cambiar los parámetros iniciales si considera que puede mejorar el rendimiento AGM. Justifique su razonamiento en caso de que seleccione un nuevo conjunto de parámetros. **Valor: 2 puntos.**"
   ]
  },
  {
   "cell_type": "code",
   "execution_count": 35,
   "id": "ac6bf742",
   "metadata": {},
   "outputs": [],
   "source": [
    "# Parámetros iniciales\n",
    "tamañoPoblación = 30\n",
    "nGenes = 40\n",
    "p_cruce = 0.4\n",
    "p_mut = 0.025\n",
    "p_torneo = 0.75\n",
    "\n",
    "genoma = generar(tamañoPoblación, nGenes)"
   ]
  },
  {
   "attachments": {},
   "cell_type": "markdown",
   "id": "5954680b",
   "metadata": {},
   "source": [
    "### Resultados"
   ]
  },
  {
   "attachments": {},
   "cell_type": "markdown",
   "id": "912d7e23",
   "metadata": {},
   "source": [
    "14. Para cada ejecución del AGM (para cada función de ajuste) genere un gráfico que muestre la evolución por cada generación de los valores de ajuste máximo y promedio de la población. Esto implica que debe guardar los valores de ajuste para cada generación del proceso de optimización. **Valor: 4 puntos.**"
   ]
  },
  {
   "cell_type": "code",
   "execution_count": 36,
   "id": "38b552f3",
   "metadata": {},
   "outputs": [
    {
     "data": {
      "text/plain": [
       "[<matplotlib.lines.Line2D at 0x7fad6b893110>]"
      ]
     },
     "execution_count": 36,
     "metadata": {},
     "output_type": "execute_result"
    },
    {
     "data": {
      "image/png": "[encoded data removed]",
      "text/plain": [
       "<Figure size 640x480 with 1 Axes>"
      ]
     },
     "metadata": {},
     "output_type": "display_data"
    }
   ],
   "source": [
    "# Gráfico de evolución de los valores de ajuste\n",
    "y = main(genoma, 1, p_cruce, p_mut, p_torneo)\n",
    "plt.plot(np.arange(len(y)),y)"
   ]
  },
  {
   "cell_type": "code",
   "execution_count": 37,
   "id": "6a501e95",
   "metadata": {},
   "outputs": [
    {
     "data": {
      "text/plain": [
       "[<matplotlib.lines.Line2D at 0x7fad6b816110>]"
      ]
     },
     "execution_count": 37,
     "metadata": {},
     "output_type": "execute_result"
    },
    {
     "data": {
      "image/png": "[encoded data removed]",
      "text/plain": [
       "<Figure size 640x480 with 1 Axes>"
      ]
     },
     "metadata": {},
     "output_type": "display_data"
    }
   ],
   "source": [
    "# Gráfico de evolución de los valores de ajuste\n",
    "y = main(genoma, 2, p_cruce, p_mut, p_torneo)\n",
    "plt.plot(np.arange(len(y)),y)"
   ]
  },
  {
   "attachments": {},
   "cell_type": "markdown",
   "id": "b830df09",
   "metadata": {},
   "source": [
    "15. Grafique las funciones de ajuste y sobre ellas los valores óptimos obtenidos a partir del AGM. **Valor: 2 puntos.**"
   ]
  },
  {
   "cell_type": "code",
   "execution_count": 26,
   "id": "58faf272",
   "metadata": {},
   "outputs": [],
   "source": [
    "# Valores óptimos"
   ]
  },
  {
   "attachments": {},
   "cell_type": "markdown",
   "id": "ffb7a50e",
   "metadata": {},
   "source": [
    "## Referencias\n",
    "* M.Wahde (2008). _Biologically Inspired Optimization Methods: An Introduction_. WIT Press.\n",
    "* Pang, T. (2006). _An Introduction to Computational Physics_. Cambridge: Cambridge University Press.\n",
    "* M. Mitchell. (1996). _An Introduction to Genetic Algorithms_. MIT Press, Cambridge, USA. "
   ]
  }
 ],
 "metadata": {
  "kernelspec": {
   "display_name": "Python 3",
   "language": "python",
   "name": "python3"
  },
  "language_info": {
   "codemirror_mode": {
    "name": "ipython",
    "version": 3
   },
   "file_extension": ".py",
   "mimetype": "text/x-python",
   "name": "python",
   "nbconvert_exporter": "python",
   "pygments_lexer": "ipython3",
   "version": "3.11.3"
  }
 },
 "nbformat": 4,
 "nbformat_minor": 5
}
