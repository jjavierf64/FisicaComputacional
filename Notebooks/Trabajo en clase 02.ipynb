{
 "cells": [
  {
   "attachments": {},
   "cell_type": "markdown",
   "id": "7af81e1a",
   "metadata": {},
   "source": [
    "# Trabajo en clase 01 - Javier Fernández (2020425930)\n",
    "## Series de Fourier\n",
    "\n",
    "- Realice las actividades que se le indican en los espacios disponibles. \n",
    "- Debe entregar una copia de este cuaderno en el espacio habilitado el tecDigital para el trabajo en clase 02.\n",
    "- **Valor total 12 puntos**.\n",
    "- Puede agregar celdas de texto o código si lo considera necesario.\n",
    "- Use nombres descriptivos para las variables y las funciones que defina. \n",
    "- Agregue todos los comentarios que considere necesarios para mejorar la comprensión del código."
   ]
  },
  {
   "cell_type": "markdown",
   "id": "672052bf",
   "metadata": {},
   "source": [
    "## Series de Fourier\n",
    "\n",
    "Para una función que cumple que $f(t+T) = f(t)$, es decir, una función periódica, se puede definir una frecuencia principal $\\omega = \\omega_1 = \\dfrac{2\\pi}{T}$\n",
    "\n",
    "Esta función se puede expresar como una expansión de la forma:\n",
    "\\begin{equation}\n",
    "f(t) = \\dfrac{a_0}{2} + \\sum_{n=1}^{\\infty}a_n\\cos{(n\\omega t)} + \\sum_{n=1}^{\\infty}b_n\\sin{(n\\omega t)}\n",
    "\\end{equation}\n",
    "\n",
    "donde la intensidad de cada frecuencia se calcula como $a_n^2 + b_n^2$\n",
    "\n",
    "Cada coeficiente se puede calcular de la siguiente manera:\n",
    "\n",
    "\\begin{align}\n",
    "a_n &= \\dfrac{2}{T}\\int_0^T\\cos{(n\\omega t)}f(t)\\mathrm{d}t\\\\\n",
    "b_n &= \\dfrac{2}{T}\\int_0^T\\sin{(n\\omega t)}f(t)\\mathrm{d}t\n",
    "\\end{align}\n",
    "\n",
    "donde $a_0 = 2\\langle f(t)\\rangle$\n",
    "\n",
    "Note que en caso de que la función que se quiere aproximar esté representada por una señal (valores para una serie de instantes de tiempo), la suma de Fourier tiene que hacerse para cada instante _t_. Esto implica que los coeficientes $a_n$ y $b_n$ también deben calcularse para cada _t_.\n",
    "\n",
    "\n",
    "### Actividad \n",
    "Genere un gráfico interactivo que aproxime la señal con una serie de Fourier para una cantidad de términos arbitraria."
   ]
  },
  {
   "cell_type": "markdown",
   "id": "f31065d2",
   "metadata": {},
   "source": [
    "Se van a crear dos funciones: una calcula los coeficientes $a_n$ y $b_n$ y la otra calcula la suma de Fourier para cada _t_\n",
    "\n",
    "Primero genere la función que retorna la suma de Fourier: **Valor: 4 puntos**\n",
    "1. Inicialice un arreglo lleno de ceros llamado suma_Fourier. En este arreglo se almacenarán los valores de la serie de Fourier para cada instante _t_.\n",
    "2. Inicialice un ciclo que va a iterar sobre la cantidad de términos de la suma.\n",
    "    \n",
    "    2.1. Calcule los coeficientes a_n y b_n para el n-ésimo término de la suma. Esta parte se realiza con la función que se describe en la próxima parte.\n",
    "    \n",
    "    2.2. Calcule el valor de la suma de Fourier para cada _t_.   \n",
    "    2.3. Sume el valor obtenido en 2.2 al arreglo suma_Fourier\n",
    "\n",
    "3. Sume a_0/2 a cada entrada de suma_Fourier\n",
    "4. Retorne el arreglo suma_Fourier"
   ]
  },
  {
   "cell_type": "code",
   "execution_count": 1,
   "id": "105a9af3",
   "metadata": {},
   "outputs": [],
   "source": [
    "# Bibliotecas básicas\n",
    "import numpy as np\n",
    "from scipy import signal\n",
    "from scipy import integrate\n",
    "import matplotlib.pyplot as plt\n",
    "\n",
    "\n",
    "# funciones para la visualización interactiva\n",
    "from ipywidgets import interactive, interact, FloatSlider\n",
    "import ipywidgets as widgets\n",
    "from IPython.display import display"
   ]
  },
  {
   "cell_type": "code",
   "execution_count": 2,
   "id": "4492283b",
   "metadata": {},
   "outputs": [],
   "source": [
    "# Función suma de Fourier\n",
    "def aproxFourier(arreglo_X,arreglo_Y,nTerminos, nMuestras, periodoL):\n",
    "    \n",
    "    # Creación del array de ceros para almacenar los valores de las iteraciones\n",
    "    suma_Fourier = np.zeros([1,len(arreglo_X)])[0]\n",
    "    omega= 2*np.pi / periodoL\n",
    "\n",
    "\n",
    "    # Primer término a0\n",
    "    intervaloInt= np.linspace(0,periodoL,nMuestras)\n",
    "    a0 = 2 * (1/periodoL) * integrate.simpson(arreglo_Y,intervaloInt)\n",
    "    suma_Fourier += a0/2\n",
    "\n",
    "    # Resto de términos hasta el término arbitrario definido\n",
    "    for n in range(1,nTerminos+1):\n",
    "        a,b = calcAB(arreglo_X, arreglo_Y, n, nMuestras, periodoL, omega, intervaloInt)\n",
    "        f_aprox = a*np.cos(n*omega*arreglo_X) + b*np.sin(n*omega*arreglo_X)\n",
    "        suma_Fourier += f_aprox\n",
    "    \n",
    "    return suma_Fourier"
   ]
  },
  {
   "cell_type": "markdown",
   "id": "5d079870",
   "metadata": {},
   "source": [
    "Ahora escriba la función que encuentre los valores de $a_n$ y $b_n$ para usar en la función anterior: **Valor: 4 puntos**\n",
    "1. Esta función calcula los coeficientes $a_n$ y $b_n$ para un único _n_. Es decir, solo retorna 2 valores. \n",
    "2. Calcule los valores de los coeficientes $a_n$ y $b_n$ para cada _t_. Utilice la función `scipy.integrate.simpson()` para calcular las integrales correspondientes.\n",
    "3. Retorne los coeficientes $a_n$ y $b_n$."
   ]
  },
  {
   "cell_type": "code",
   "execution_count": 3,
   "id": "4a384028",
   "metadata": {},
   "outputs": [],
   "source": [
    "# Función cálculo de coeficientes a_n y b_n\n",
    "\n",
    "def calcAB(arreglo_X, arreglo_Y, nT, nMuestras, periodoL, omega, intervaloInt):\n",
    "    # Se define la función a integrar para obtener el coeficiente a\n",
    "    a = (2/periodoL) * integrate.simpson(np.cos(nT*omega*arreglo_X)*arreglo_Y,intervaloInt)\n",
    "\n",
    "\n",
    "    # Se define la función a integrar para obtener el coeficiente b\n",
    "    b = (2/periodoL) * integrate.simpson( np.sin(nT*omega*arreglo_X)*arreglo_Y,intervaloInt)\n",
    "\n",
    "\n",
    "    return a,b"
   ]
  },
  {
   "cell_type": "markdown",
   "id": "c90b4849",
   "metadata": {},
   "source": [
    "Finalmente, genere un gráfico interactivo que use las funciones anteriores para aproximar una señal de entrada para una cantidad de términos en la suma de Fourier arbitraria. **Valor: 4 puntos**"
   ]
  },
  {
   "cell_type": "code",
   "execution_count": 4,
   "id": "6be4c395",
   "metadata": {},
   "outputs": [],
   "source": [
    "def graficoFourier(nTerminos):\n",
    "    # Parámetros tiempo\n",
    "    periodoL = 8 # periodo de la función f(x)\n",
    "    nMuestras = 1000\n",
    "    nTerminos = int(nTerminos)\n",
    "    \n",
    "    # Parámetros de las señales de entrada\n",
    "    freq = 4 # frecuencia angular o número de ondas en un periodo\n",
    "    dutycycle = 0.5\n",
    "    width_range = 1\n",
    "\n",
    "\n",
    "    # Puntos t\n",
    "    arreglo_X = np.linspace(0, periodoL, nMuestras, endpoint=False)\n",
    "        \n",
    "    # Señales y(t)\n",
    "    # arreglo_Y = np.sin(2*np.pi*1*arreglo_X)\n",
    "    # arreglo_Y = np.cos(2*np.pi*1*arreglo_X)\n",
    "    # arreglo_Y = signal.sawtooth(2.0*np.pi*arreglo_X*freq/periodoL ,width=width_range)\n",
    "    # arreglo_Y = signal.square(2*np.pi*arreglo_X*freq/periodoL , duty=dutycycle)\n",
    "    # arreglo_Y = signal.gausspulse(2.0*np.pi*arreglo_X*freq/periodoL, fc=0.05)\n",
    "    arreglo_Y = signal.ricker(nMuestras, 100) # Sombrero mexicano\n",
    "    # arreglo_Y = signal.unit_impulse(nMuestras, 'mid')\n",
    "\n",
    "    # Aproximación por Fourier\n",
    "    señal_aprox = aproxFourier(arreglo_X,arreglo_Y,nTerminos, nMuestras, periodoL)\n",
    "\n",
    "\n",
    "\n",
    "    fig, ax = plt.subplots(dpi=120)\n",
    "    \n",
    "    ax.plot(arreglo_X, señal_aprox, label='Aprox Fourier')\n",
    "    ax.plot(arreglo_X, arreglo_Y, label='Señal orig', alpha=0.5)\n",
    "  \n",
    "    ax.set_xlabel('$t$')\n",
    "    ax.set_ylabel('$y=f(t)$')\n",
    "    # ax.set_xlim([2,6])\n",
    "\n",
    "    \n",
    "    ax.legend(loc='best', prop={'size':10})\n",
    "    ax.set_title('Análisis de Fourier para una señal')\n",
    "    \n",
    "    plt.show()"
   ]
  },
  {
   "cell_type": "code",
   "execution_count": 5,
   "id": "c58da38d",
   "metadata": {},
   "outputs": [
    {
     "data": {
      "application/vnd.jupyter.widget-view+json": {
       "model_id": "4297e9ab85c94cb9b81edfc0364a858b",
       "version_major": 2,
       "version_minor": 0
      },
      "text/plain": [
       "interactive(children=(FloatSlider(value=1.0, continuous_update=False, description='nTerminos', min=1.0, step=1…"
      ]
     },
     "metadata": {},
     "output_type": "display_data"
    },
    {
     "data": {
      "text/plain": [
       "<function __main__.graficoFourier(nTerminos)>"
      ]
     },
     "execution_count": 5,
     "metadata": {},
     "output_type": "execute_result"
    }
   ],
   "source": [
    "# Gráfico \n",
    "\n",
    "nT = FloatSlider(min=1, max=100, step=1., continuous_update=False)\n",
    "interact(graficoFourier, nTerminos = nT)"
   ]
  },
  {
   "cell_type": "code",
   "execution_count": null,
   "id": "afd5560b",
   "metadata": {},
   "outputs": [],
   "source": []
  }
 ],
 "metadata": {
  "kernelspec": {
   "display_name": "Python 3 (ipykernel)",
   "language": "python",
   "name": "python3"
  },
  "language_info": {
   "codemirror_mode": {
    "name": "ipython",
    "version": 3
   },
   "file_extension": ".py",
   "mimetype": "text/x-python",
   "name": "python",
   "nbconvert_exporter": "python",
   "pygments_lexer": "ipython3",
   "version": "3.11.2"
  },
  "vscode": {
   "interpreter": {
    "hash": "e7370f93d1d0cde622a1f8e1c04877d8463912d04d973331ad4851f04de6915a"
   }
  }
 },
 "nbformat": 4,
 "nbformat_minor": 5
}
