{
 "cells": [
  {
   "attachments": {},
   "cell_type": "markdown",
   "id": "3dd298ea",
   "metadata": {},
   "source": [
    "# Trabajo en clase 07\n",
    "## Operadores del Algoritmo Genético Estándar (AGM)\n",
    "- Realice las actividades que se le indican en los espacios disponibles. \n",
    "- Debe entregar una copia de este cuaderno en el espacio habilitado el tecDigital para el trabajo en clase 07.\n",
    "- **Valor total 10 puntos**.\n",
    "- Puede agregar celdas de texto o código si lo considera necesario.\n",
    "- Use nombres descriptivos para las variables y las funciones que defina. \n",
    "- Agregue todos los comentarios que considere necesarios para mejorar la comprensión del código.\n",
    "\n",
    "\n",
    "# Javier Fernández"
   ]
  },
  {
   "attachments": {},
   "cell_type": "markdown",
   "id": "3229603b",
   "metadata": {},
   "source": [
    "Escriba los operadores de codificación, cruce y mutación necesarios para una implementación de un AGM"
   ]
  },
  {
   "cell_type": "code",
   "execution_count": 3,
   "id": "76ffb369",
   "metadata": {},
   "outputs": [],
   "source": [
    "import numpy as np\n",
    "import matplotlib.pyplot as plt"
   ]
  },
  {
   "attachments": {},
   "cell_type": "markdown",
   "id": "61cf3c68",
   "metadata": {},
   "source": [
    "### Inicialización de la población\n",
    "\n",
    "1. Genere una población inicial para el proceso de optimización. Los cromosomas tienen una codificación binaria Escriba una función que toma como entrada el tamaño de la población y el número de genes por cromosoma. Se retorna la matriz 'tamaño población x nGenes' que representa la población inicial. **Valor: 2 puntos.**"
   ]
  },
  {
   "cell_type": "code",
   "execution_count": 20,
   "id": "37c32b76",
   "metadata": {},
   "outputs": [],
   "source": [
    "# Inicialización\n",
    "\n",
    "def generar(N,ngenes):\n",
    "    matriz = []\n",
    "    for i in range(0,N):\n",
    "        matriz.append([])\n",
    "        for j in range(0,ngenes):\n",
    "            matriz[i].append(np.random.randint(0,2))\n",
    "    return matriz\n"
   ]
  },
  {
   "attachments": {},
   "cell_type": "markdown",
   "id": "0db83c8c",
   "metadata": {},
   "source": [
    "### Codificación\n",
    "\n",
    "2. Escriba una función que tome un cromosoma que use el esquema binario de codificación y determine el valor de una variable a evaluar en una función de ajuste. Las variables se decodifican usando: **Valor: 2 puntos.**\n",
    "$$\n",
    "x = -d + \\dfrac{2d}{1 - 2^{-k}}(2^{-1}g_1 + \\ldots + 2^{-k}g_k)\n",
    "$$\n",
    "\n",
    "Lo que resulta en un valor $x \\in [-d,d]$"
   ]
  },
  {
   "cell_type": "code",
   "execution_count": 24,
   "id": "f8bc1dc4",
   "metadata": {},
   "outputs": [],
   "source": [
    "# Decodificación del cromosoma\n",
    "def decod(cromosoma, d):\n",
    "    producto = 0\n",
    "    i = 1\n",
    "    for g in cromosoma:\n",
    "        producto += g*2**-i\n",
    "        i+=1\n",
    "    k=len(cromosoma)\n",
    "    \n",
    "    x = -d + (2*d/(1-2**-k)) * producto\n",
    "\n",
    "    return x\n",
    "\n"
   ]
  },
  {
   "attachments": {},
   "cell_type": "markdown",
   "id": "c7eae2aa",
   "metadata": {},
   "source": [
    "### Selección\n",
    "\n",
    "* Se seleccionan dos individuos de la población con probabilidad uniforme.\n",
    "* Con probabilidad $p_{torneo}$ se selecciona al que tenga el valor de ajuste más alto.\n",
    "* El proceso selecciona **un** individuo.\n",
    "* Los individuos seleccionados vuelven a la población y pueden volver a ser selecionados.\n",
    "\n",
    "3. Escriba una función que a partir de la población de individuos seleccione uno por medio de un torneo. Se toman como entradas los valores de ajuste y la probabilidad $p_{torneo}$. Se retorna el índice del individuo seleccionado. **Valor: 2 puntos.**"
   ]
  },
  {
   "cell_type": "code",
   "execution_count": 50,
   "id": "d0336e7e",
   "metadata": {},
   "outputs": [],
   "source": [
    "# Torneo de selección\n",
    "def seleccion(ajuste, pTorneo):\n",
    "    prob = np.random.uniform(0,1)\n",
    "    i=0\n",
    "\n",
    "    if pTorneo >= prob:\n",
    "        i = ajuste.index(max(ajuste))\n",
    "    elif pTorneo < prob:\n",
    "        i = ajuste.index(min(ajuste))\n",
    "    \n",
    "    return i\n",
    "\n"
   ]
  },
  {
   "attachments": {},
   "cell_type": "markdown",
   "id": "2e59b7df",
   "metadata": {},
   "source": [
    "### Cruce\n",
    "\n",
    "4. Escriba una función que cruce un par de cromosomas en una posición aleatoria. Se toman como valores de entrada un par de cromosomas y la probabilidad de realizar el cruce. El punto de corte debe seleccionarse aleatoriamente según la longitud de los cromosomas. Se retornan los nuevos cromosomas generados. **Valor: 2 puntos.**"
   ]
  },
  {
   "cell_type": "code",
   "execution_count": 67,
   "id": "7b124048",
   "metadata": {},
   "outputs": [],
   "source": [
    "# Operador de cruce\n",
    "\n",
    "def cruce(crom1, crom2, pCruce):\n",
    "    prob = np.random.uniform(0,1)\n",
    "\n",
    "    if pCruce >= prob:\n",
    "        i = np.random.randint(1,len(crom1)-1)\n",
    "        newcrom1 = crom1[:i] + crom2[i:]\n",
    "        newcrom2 = crom2[:i] + crom1[i:]\n",
    "    else:\n",
    "        newcrom1,newcrom2 = crom1,crom2\n",
    "\n",
    "    return newcrom1,newcrom2\n"
   ]
  },
  {
   "attachments": {},
   "cell_type": "markdown",
   "id": "e179ee6c",
   "metadata": {},
   "source": [
    "### Mutación\n",
    "\n",
    "5. Escriba una función que realice la mutación de un cromosoma con probabilidad $p_{mut}$. Recibe como entrada un cromosoma y retorna el cromosoma mutado. **Valor: 2 puntos.**"
   ]
  },
  {
   "cell_type": "code",
   "execution_count": 75,
   "id": "275628cb",
   "metadata": {},
   "outputs": [],
   "source": [
    "# Operador de mutación\n",
    "\n",
    "def muta(crom, pMut):\n",
    "    prob = np.random.uniform(0,1)\n",
    "\n",
    "    if pMut >= prob:\n",
    "        i = np.random.randint(0,len(crom))\n",
    "        if crom[i]:\n",
    "            crom[i]=0\n",
    "        else:\n",
    "            crom[i]=1\n",
    "\n",
    "    return crom "
   ]
  },
  {
   "attachments": {},
   "cell_type": "markdown",
   "id": "0d4b57fa",
   "metadata": {},
   "source": [
    "## Referencias\n",
    "* M.Wahde (2008). _Biologically Inspired Optimization Methods: An Introduction_. WIT Press.\n",
    "* Pang, T. (2006). _An Introduction to Computational Physics_. Cambridge: Cambridge University Press.\n",
    "* M. Mitchell. (1996). _An Introduction to Genetic Algorithms_. MIT Press, Cambridge, USA. "
   ]
  }
 ],
 "metadata": {
  "kernelspec": {
   "display_name": "Python 3",
   "language": "python",
   "name": "python3"
  },
  "language_info": {
   "codemirror_mode": {
    "name": "ipython",
    "version": 3
   },
   "file_extension": ".py",
   "mimetype": "text/x-python",
   "name": "python",
   "nbconvert_exporter": "python",
   "pygments_lexer": "ipython3",
   "version": "3.11.3"
  }
 },
 "nbformat": 4,
 "nbformat_minor": 5
}
