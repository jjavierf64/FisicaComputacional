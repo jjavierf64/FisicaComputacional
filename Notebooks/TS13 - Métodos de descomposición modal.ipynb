{
 "cells": [
  {
   "cell_type": "markdown",
   "id": "cce6bea7",
   "metadata": {},
   "source": [
    "# Tarea Semana 13\n",
    "## Método de descomposición modal (POD)\n",
    "\n",
    "- Realice las actividades que se le indican en los espacios disponibles. \n",
    "- Debe entregar una copia de este cuaderno en el espacio habilitado el tecDigital para el trabajo en clase TS13.\n",
    "- Puede agregar celdas de texto o código si lo considera necesario.\n",
    "- Use nombres descriptivos para las variables y las funciones que defina. \n",
    "- Agregue todos los comentarios que considere necesarios para mejorar la comprensión del código.\n",
    "- **Valor total 24 puntos**.\n",
    "- Fecha de entrega: **Lunes 22 de mayo, 11.59 pm**."
   ]
  },
  {
   "cell_type": "code",
   "execution_count": 1,
   "id": "517e8967-bc98-4bd7-864b-cfd255748a9e",
   "metadata": {},
   "outputs": [],
   "source": [
    "# Bibliotecas básicas\n",
    "import numpy as np\n",
    "import matplotlib.pyplot as plt\n",
    "\n",
    "\n",
    "# funciones para la visualización interactiva\n",
    "from ipywidgets import interactive, interact, FloatSlider\n",
    "import ipywidgets as widgets\n",
    "from IPython.display import display"
   ]
  },
  {
   "cell_type": "markdown",
   "id": "51b88a19",
   "metadata": {},
   "source": [
    "1. Construya una función sinoidal $y = f(x,t)$ usando los parámetros indicados. **Valor: 1 punto**"
   ]
  },
  {
   "cell_type": "code",
   "execution_count": 8,
   "id": "bb1c390a",
   "metadata": {},
   "outputs": [],
   "source": [
    "# Función sinoidal\n",
    "omega = np.pi # Angular frequency\n",
    "k = 2; # Wave number\n",
    "amplitud = 2.5\n",
    "\n",
    "\n",
    "def funcionSinus(x,t,omega,k,amp):\n",
    "    return amp*np.sin(x*k - omega*t)"
   ]
  },
  {
   "cell_type": "markdown",
   "id": "5be45420",
   "metadata": {},
   "source": [
    "2. Genere los puntos en el espacio y en el tiempo para evaluar la función. El intervalo temporal es $-10 < x < 10$ para _200_ puntos. El intervalo temporal es $0 < t < 4000\\pi$ para _1000_ puntos.\n",
    "3. Genere un gráfico interactivo de la función _y(x,t)_ donde el deslizador varíe el tiempo en el intervalo indicado. **Valor: 4 puntos**"
   ]
  },
  {
   "cell_type": "code",
   "execution_count": 9,
   "id": "9d8cb695",
   "metadata": {},
   "outputs": [],
   "source": [
    "# Gráfico interactivo\n",
    "\n",
    "def grafico(t):\n",
    "    fig, ax = plt.subplots()\n",
    "    plt.plot(x,funcionSinus(x,t,omega,k,amplitud))\n",
    "    plt.show()\n",
    "    return\n",
    "\n"
   ]
  },
  {
   "cell_type": "code",
   "execution_count": 10,
   "id": "69002af1-54c2-478a-ae74-ac5ddcce0344",
   "metadata": {},
   "outputs": [
    {
     "data": {
      "application/vnd.jupyter.widget-view+json": {
       "model_id": "c92c715a18774d19a9bce9112b796cdc",
       "version_major": 2,
       "version_minor": 0
      },
      "text/plain": [
       "interactive(children=(FloatSlider(value=0.0, continuous_update=False, description='t', max=12566.370614359172,…"
      ]
     },
     "metadata": {},
     "output_type": "display_data"
    },
    {
     "data": {
      "text/plain": [
       "<function __main__.grafico(t)>"
      ]
     },
     "execution_count": 10,
     "metadata": {},
     "output_type": "execute_result"
    }
   ],
   "source": [
    "\n",
    "x = np.linspace(-10,10,200)\n",
    "tmax = 4000 * np.pi\n",
    "nt = FloatSlider(min=0, max=tmax, step=tmax/1000, continuous_update=False)\n",
    "interact(grafico, t = nt)"
   ]
  },
  {
   "cell_type": "markdown",
   "id": "d2d7fb43",
   "metadata": {},
   "source": [
    "4. Genere la matriz _M_ evaluando los puntos en _x_ y _t_ en _y(x,t)_. **Valor: 1 punto**\n",
    "5. Ahora genere la matriz _R_:\n",
    "$$\n",
    "R = \\frac{1}{N}(M^{T} \\times M)\n",
    "$$\n",
    "donde _N_ es la cantidad de puntos de la discretización del tiempo. **Valor: 1 punto**\n",
    "6. Calcule los autovalores y autovectores de la matriz _R_. **Valor: 2 puntos**"
   ]
  },
  {
   "cell_type": "code",
   "execution_count": null,
   "id": "4f28411d",
   "metadata": {},
   "outputs": [],
   "source": [
    "# Descomposición ortogonal\n"
   ]
  },
  {
   "cell_type": "markdown",
   "id": "c7cde73d",
   "metadata": {},
   "source": [
    "7. Grafique los autovalores obtenidos. En el eje vertical en escala logarítmica debe mostrarse los autovalores normalizados ($\\lambda_n/\\sum \\lambda$) y en el eje horizontal el número de modo. **Valor: 4 puntos**\n",
    "8. Observe los valores de los autovectores y determine cuales son los más importantes. Estos representan los modos dominantes de la descomposición modal."
   ]
  },
  {
   "cell_type": "code",
   "execution_count": null,
   "id": "196a4818",
   "metadata": {},
   "outputs": [],
   "source": [
    "# Espectro de modos"
   ]
  },
  {
   "cell_type": "markdown",
   "id": "a6da517f",
   "metadata": {},
   "source": [
    "9. Grafique los autovectores de los dos primeros modos encontrados. En el eje horizontal se debe mostrar el intervalo espacial y en el eje vertical las componentes del autovector. **Valor: 4 puntos**"
   ]
  },
  {
   "cell_type": "code",
   "execution_count": null,
   "id": "6cbc2c87",
   "metadata": {},
   "outputs": [],
   "source": [
    "# Autovectores de los primeros modos"
   ]
  },
  {
   "cell_type": "markdown",
   "id": "35c6c497",
   "metadata": {},
   "source": [
    "10. Calcule los coeficientes modales _a_ como el producto punto de cada fila de _M_ por cada autovector correspondiente a los 2 primeros modos. Almacene los valores en una matriz $M_a$ de dimensiones (número de modos $\\times$ número de _snapshots_). **Valor: 2 puntos**\n",
    "11. Grafique los coeficientes _a_ contra el tiempo para cada modo. **Valor: 2 puntos**"
   ]
  },
  {
   "cell_type": "code",
   "execution_count": null,
   "id": "e5872877",
   "metadata": {},
   "outputs": [],
   "source": [
    "# Coeficientes modales"
   ]
  },
  {
   "cell_type": "markdown",
   "id": "711dd629",
   "metadata": {},
   "source": [
    "12. Finalmente reconstruya la matriz M usando solo los primeros modos encontrados. Calcule el producto exterior entre el autovector y la fila de $M_a$, esto resulta en una matriz $M_1$ para el primer modo. Repita para el segundo modo para obtener $M_2$. Obtenga la nueva matriz M como $M_1 + M_2$. **Valor: 2 puntos**"
   ]
  },
  {
   "cell_type": "code",
   "execution_count": null,
   "id": "84bb8860",
   "metadata": {},
   "outputs": [],
   "source": [
    "# Recontrucción de M para dos modos"
   ]
  },
  {
   "cell_type": "markdown",
   "id": "14ade923",
   "metadata": {},
   "source": [
    "13. Evalue la reconstrucción de M. Calcule la diferencia entre la matriz _M_ original y la reconstrucción e imprima el valor máximo entre todas las diferencias. Compare ese valor con el valor mínimo de la matriz M original y comente si la diferencia es significativa. **Valor: 1 punto**"
   ]
  },
  {
   "cell_type": "code",
   "execution_count": null,
   "id": "9afe18ea",
   "metadata": {},
   "outputs": [],
   "source": [
    "# Evaluación del error"
   ]
  }
 ],
 "metadata": {
  "kernelspec": {
   "display_name": "Python 3 (ipykernel)",
   "language": "python",
   "name": "python3"
  },
  "language_info": {
   "codemirror_mode": {
    "name": "ipython",
    "version": 3
   },
   "file_extension": ".py",
   "mimetype": "text/x-python",
   "name": "python",
   "nbconvert_exporter": "python",
   "pygments_lexer": "ipython3",
   "version": "3.11.2"
  }
 },
 "nbformat": 4,
 "nbformat_minor": 5
}
